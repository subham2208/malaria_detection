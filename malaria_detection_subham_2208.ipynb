{
  "nbformat": 4,
  "nbformat_minor": 0,
  "metadata": {
    "colab": {
      "provenance": [],
      "gpuType": "T4"
    },
    "kernelspec": {
      "name": "python3",
      "display_name": "Python 3"
    },
    "language_info": {
      "name": "python"
    },
    "accelerator": "GPU"
  },
  "cells": [
    {
      "cell_type": "code",
      "execution_count": 1,
      "metadata": {
        "colab": {
          "base_uri": "https://localhost:8080/"
        },
        "id": "lg12fU-IO3O1",
        "outputId": "802fca45-eb83-4493-8d99-fd349df7da7d"
      },
      "outputs": [
        {
          "output_type": "stream",
          "name": "stdout",
          "text": [
            "Extraction completed.\n"
          ]
        }
      ],
      "source": [
        "import zipfile\n",
        "\n",
        "# Define the path to your zip file\n",
        "zip_file_path = '/content/Dataset.zip'  # Update with the correct path\n",
        "\n",
        "# Define the directory where you want to extract the files\n",
        "extracted_dir_path = '/content/Dataset'  # Update with the desired directory path\n",
        "\n",
        "# Extract the zip file\n",
        "with zipfile.ZipFile(zip_file_path, 'r') as zip_ref:\n",
        "    zip_ref.extractall(extracted_dir_path)\n",
        "\n",
        "print(\"Extraction completed.\")"
      ]
    },
    {
      "cell_type": "code",
      "source": [
        "# import the libraries as shown below\n",
        "\n",
        "from tensorflow.keras.layers import Input, Lambda, Dense, Flatten,Conv2D\n",
        "from tensorflow.keras.models import Model\n",
        "from tensorflow.keras.applications.vgg19 import VGG19\n",
        "from tensorflow.keras.applications.resnet50 import preprocess_input\n",
        "from tensorflow.keras.preprocessing import image\n",
        "from tensorflow.keras.preprocessing.image import ImageDataGenerator,load_img\n",
        "from tensorflow.keras.models import Sequential\n",
        "import numpy as np\n",
        "from glob import glob\n",
        "import matplotlib.pyplot as plt"
      ],
      "metadata": {
        "id": "lS-nChpCRDg7"
      },
      "execution_count": 2,
      "outputs": []
    },
    {
      "cell_type": "code",
      "source": [
        " #re-size all the images to this\n",
        "IMAGE_SIZE = [224, 224]\n",
        "\n",
        "train_path = '/content/Dataset/Dataset/Train'\n",
        "valid_path = '/content/Dataset/Dataset/Test'"
      ],
      "metadata": {
        "id": "2piScHrFRgFd"
      },
      "execution_count": 3,
      "outputs": []
    },
    {
      "cell_type": "code",
      "source": [
        "# Here we will be using imagenet weights\n",
        "\n",
        "mobilnet = VGG19(input_shape=IMAGE_SIZE + [3], weights='imagenet', include_top=False)"
      ],
      "metadata": {
        "colab": {
          "base_uri": "https://localhost:8080/"
        },
        "id": "--cQtDBXSV69",
        "outputId": "a1eb46a1-c1eb-410d-f029-5c2e1573be1f"
      },
      "execution_count": 4,
      "outputs": [
        {
          "output_type": "stream",
          "name": "stdout",
          "text": [
            "Downloading data from https://storage.googleapis.com/tensorflow/keras-applications/vgg19/vgg19_weights_tf_dim_ordering_tf_kernels_notop.h5\n",
            "80134624/80134624 [==============================] - 0s 0us/step\n"
          ]
        }
      ]
    },
    {
      "cell_type": "code",
      "source": [
        "# freeze existing weights\n",
        "for layer in mobilnet.layers:\n",
        "    layer.trainable = False"
      ],
      "metadata": {
        "id": "at2I8P8cSeSW"
      },
      "execution_count": 5,
      "outputs": []
    },
    {
      "cell_type": "code",
      "source": [
        "# our layers - you can add more if you want\n",
        "x = Flatten()(mobilnet.output)"
      ],
      "metadata": {
        "id": "x5g5Z1r1Sn9I"
      },
      "execution_count": 6,
      "outputs": []
    },
    {
      "cell_type": "code",
      "source": [
        " # useful for getting number of output classes\n",
        "folders = glob('/content/Dataset/Dataset/Train')"
      ],
      "metadata": {
        "id": "mYqWWh1vS7RB"
      },
      "execution_count": 7,
      "outputs": []
    },
    {
      "cell_type": "code",
      "source": [
        "folders"
      ],
      "metadata": {
        "colab": {
          "base_uri": "https://localhost:8080/"
        },
        "id": "_U3DqG87THWd",
        "outputId": "0db8f5c5-2ea1-42c3-a48e-07abb173e0aa"
      },
      "execution_count": 8,
      "outputs": [
        {
          "output_type": "execute_result",
          "data": {
            "text/plain": [
              "['/content/Dataset/Dataset/Train']"
            ]
          },
          "metadata": {},
          "execution_count": 8
        }
      ]
    },
    {
      "cell_type": "code",
      "source": [
        "prediction = Dense(len(folders), activation='softmax')(x)\n",
        "\n",
        "# create a model object\n",
        "model = Model(inputs=mobilnet.input, outputs=prediction)"
      ],
      "metadata": {
        "id": "ZYNEhG6QTKU6"
      },
      "execution_count": 9,
      "outputs": []
    },
    {
      "cell_type": "code",
      "source": [
        "# view the structure of the model\n",
        "model.summary()"
      ],
      "metadata": {
        "colab": {
          "base_uri": "https://localhost:8080/"
        },
        "id": "WZ6xnUmoTtsp",
        "outputId": "06fad27f-df52-4718-8653-4d7d001cedb4"
      },
      "execution_count": 10,
      "outputs": [
        {
          "output_type": "stream",
          "name": "stdout",
          "text": [
            "Model: \"model\"\n",
            "_________________________________________________________________\n",
            " Layer (type)                Output Shape              Param #   \n",
            "=================================================================\n",
            " input_1 (InputLayer)        [(None, 224, 224, 3)]     0         \n",
            "                                                                 \n",
            " block1_conv1 (Conv2D)       (None, 224, 224, 64)      1792      \n",
            "                                                                 \n",
            " block1_conv2 (Conv2D)       (None, 224, 224, 64)      36928     \n",
            "                                                                 \n",
            " block1_pool (MaxPooling2D)  (None, 112, 112, 64)      0         \n",
            "                                                                 \n",
            " block2_conv1 (Conv2D)       (None, 112, 112, 128)     73856     \n",
            "                                                                 \n",
            " block2_conv2 (Conv2D)       (None, 112, 112, 128)     147584    \n",
            "                                                                 \n",
            " block2_pool (MaxPooling2D)  (None, 56, 56, 128)       0         \n",
            "                                                                 \n",
            " block3_conv1 (Conv2D)       (None, 56, 56, 256)       295168    \n",
            "                                                                 \n",
            " block3_conv2 (Conv2D)       (None, 56, 56, 256)       590080    \n",
            "                                                                 \n",
            " block3_conv3 (Conv2D)       (None, 56, 56, 256)       590080    \n",
            "                                                                 \n",
            " block3_conv4 (Conv2D)       (None, 56, 56, 256)       590080    \n",
            "                                                                 \n",
            " block3_pool (MaxPooling2D)  (None, 28, 28, 256)       0         \n",
            "                                                                 \n",
            " block4_conv1 (Conv2D)       (None, 28, 28, 512)       1180160   \n",
            "                                                                 \n",
            " block4_conv2 (Conv2D)       (None, 28, 28, 512)       2359808   \n",
            "                                                                 \n",
            " block4_conv3 (Conv2D)       (None, 28, 28, 512)       2359808   \n",
            "                                                                 \n",
            " block4_conv4 (Conv2D)       (None, 28, 28, 512)       2359808   \n",
            "                                                                 \n",
            " block4_pool (MaxPooling2D)  (None, 14, 14, 512)       0         \n",
            "                                                                 \n",
            " block5_conv1 (Conv2D)       (None, 14, 14, 512)       2359808   \n",
            "                                                                 \n",
            " block5_conv2 (Conv2D)       (None, 14, 14, 512)       2359808   \n",
            "                                                                 \n",
            " block5_conv3 (Conv2D)       (None, 14, 14, 512)       2359808   \n",
            "                                                                 \n",
            " block5_conv4 (Conv2D)       (None, 14, 14, 512)       2359808   \n",
            "                                                                 \n",
            " block5_pool (MaxPooling2D)  (None, 7, 7, 512)         0         \n",
            "                                                                 \n",
            " flatten (Flatten)           (None, 25088)             0         \n",
            "                                                                 \n",
            " dense (Dense)               (None, 1)                 25089     \n",
            "                                                                 \n",
            "=================================================================\n",
            "Total params: 20049473 (76.48 MB)\n",
            "Trainable params: 25089 (98.00 KB)\n",
            "Non-trainable params: 20024384 (76.39 MB)\n",
            "_________________________________________________________________\n"
          ]
        }
      ]
    },
    {
      "cell_type": "code",
      "source": [
        "from tensorflow.keras.layers import MaxPooling2D"
      ],
      "metadata": {
        "id": "dwcxPtW6T-rl"
      },
      "execution_count": 11,
      "outputs": []
    },
    {
      "cell_type": "code",
      "source": [
        "### Create Model from scratch using CNN\n",
        "model=Sequential()\n",
        "model.add(Conv2D(filters=16,kernel_size=2,padding=\"same\",activation=\"relu\",input_shape=(224,224,3)))\n",
        "model.add(MaxPooling2D(pool_size=2))\n",
        "model.add(Conv2D(filters=32,kernel_size=2,padding=\"same\",activation =\"relu\"))\n",
        "model.add(MaxPooling2D(pool_size=2))\n",
        "model.add(Conv2D(filters=64,kernel_size=2,padding=\"same\",activation=\"relu\"))\n",
        "model.add(MaxPooling2D(pool_size=2))\n",
        "model.add(Flatten())\n",
        "model.add(Dense(500,activation=\"relu\"))\n",
        "model.add(Dense(2,activation=\"softmax\"))\n",
        "model.summary()"
      ],
      "metadata": {
        "colab": {
          "base_uri": "https://localhost:8080/"
        },
        "id": "x_ut27jkUMPD",
        "outputId": "3baa3a07-8350-4050-a299-4552db73fd9b"
      },
      "execution_count": 12,
      "outputs": [
        {
          "output_type": "stream",
          "name": "stdout",
          "text": [
            "Model: \"sequential\"\n",
            "_________________________________________________________________\n",
            " Layer (type)                Output Shape              Param #   \n",
            "=================================================================\n",
            " conv2d (Conv2D)             (None, 224, 224, 16)      208       \n",
            "                                                                 \n",
            " max_pooling2d (MaxPooling2  (None, 112, 112, 16)      0         \n",
            " D)                                                              \n",
            "                                                                 \n",
            " conv2d_1 (Conv2D)           (None, 112, 112, 32)      2080      \n",
            "                                                                 \n",
            " max_pooling2d_1 (MaxPoolin  (None, 56, 56, 32)        0         \n",
            " g2D)                                                            \n",
            "                                                                 \n",
            " conv2d_2 (Conv2D)           (None, 56, 56, 64)        8256      \n",
            "                                                                 \n",
            " max_pooling2d_2 (MaxPoolin  (None, 28, 28, 64)        0         \n",
            " g2D)                                                            \n",
            "                                                                 \n",
            " flatten_1 (Flatten)         (None, 50176)             0         \n",
            "                                                                 \n",
            " dense_1 (Dense)             (None, 500)               25088500  \n",
            "                                                                 \n",
            " dense_2 (Dense)             (None, 2)                 1002      \n",
            "                                                                 \n",
            "=================================================================\n",
            "Total params: 25100046 (95.75 MB)\n",
            "Trainable params: 25100046 (95.75 MB)\n",
            "Non-trainable params: 0 (0.00 Byte)\n",
            "_________________________________________________________________\n"
          ]
        }
      ]
    },
    {
      "cell_type": "code",
      "source": [
        "# tell the model what cost and optimization method to use\n",
        "model.compile(\n",
        "  loss='categorical_crossentropy',\n",
        "  optimizer='adam',\n",
        "  metrics=['accuracy']\n",
        ")"
      ],
      "metadata": {
        "id": "fjZg7ttqUPpr"
      },
      "execution_count": 13,
      "outputs": []
    },
    {
      "cell_type": "code",
      "source": [
        "# Use the Image Data Generator to import the images from the dataset\n",
        "from tensorflow.keras.preprocessing.image import ImageDataGenerator\n",
        "\n",
        "train_datagen = ImageDataGenerator(rescale = 1./255,\n",
        "                                   shear_range = 0.2,\n",
        "                                   zoom_range = 0.2,\n",
        "                                   horizontal_flip = True)\n",
        "\n",
        "test_datagen = ImageDataGenerator(rescale = 1./255)"
      ],
      "metadata": {
        "id": "Y0Y-B81xUUtB"
      },
      "execution_count": 14,
      "outputs": []
    },
    {
      "cell_type": "code",
      "source": [
        "# Make sure you provide the same target size as initialied for the image size\n",
        "training_set = train_datagen.flow_from_directory('/content/Dataset/Dataset/Train',\n",
        "                                                 target_size = (224, 224),\n",
        "                                                 batch_size = 32,\n",
        "                                                 class_mode = 'categorical')"
      ],
      "metadata": {
        "colab": {
          "base_uri": "https://localhost:8080/"
        },
        "id": "k_6XSZ1yUYUM",
        "outputId": "04fb90f7-f412-4c59-d8d3-b7ebb8f1fc52"
      },
      "execution_count": 15,
      "outputs": [
        {
          "output_type": "stream",
          "name": "stdout",
          "text": [
            "Found 416 images belonging to 2 classes.\n"
          ]
        }
      ]
    },
    {
      "cell_type": "code",
      "source": [
        "training_set"
      ],
      "metadata": {
        "colab": {
          "base_uri": "https://localhost:8080/"
        },
        "id": "4DVVxWYVUc5n",
        "outputId": "a2de1d0e-7b70-432c-eca3-e8c5786e686a"
      },
      "execution_count": 16,
      "outputs": [
        {
          "output_type": "execute_result",
          "data": {
            "text/plain": [
              "<keras.src.preprocessing.image.DirectoryIterator at 0x7aca281fab60>"
            ]
          },
          "metadata": {},
          "execution_count": 16
        }
      ]
    },
    {
      "cell_type": "code",
      "source": [
        "test_set = test_datagen.flow_from_directory('/content/Dataset/Dataset/Test',\n",
        "                                            target_size = (224, 224),\n",
        "                                            batch_size = 32,\n",
        "                                            class_mode = 'categorical')"
      ],
      "metadata": {
        "colab": {
          "base_uri": "https://localhost:8080/"
        },
        "id": "EjVFkGNtUoXu",
        "outputId": "87a865a9-cb21-4266-ea8e-de3ddec66306"
      },
      "execution_count": 17,
      "outputs": [
        {
          "output_type": "stream",
          "name": "stdout",
          "text": [
            "Found 134 images belonging to 2 classes.\n"
          ]
        }
      ]
    },
    {
      "cell_type": "code",
      "source": [
        "r = model.fit_generator(\n",
        "  training_set,\n",
        "  validation_data=test_set,\n",
        "  epochs=50,\n",
        "  steps_per_epoch=len(training_set),\n",
        "  validation_steps=len(test_set)\n",
        ")"
      ],
      "metadata": {
        "colab": {
          "base_uri": "https://localhost:8080/"
        },
        "id": "fYGYuXx2UrtD",
        "outputId": "56e3142d-3571-4c9e-ec5b-3696051519f4"
      },
      "execution_count": 18,
      "outputs": [
        {
          "output_type": "stream",
          "name": "stderr",
          "text": [
            "<ipython-input-18-070b10e8c207>:1: UserWarning: `Model.fit_generator` is deprecated and will be removed in a future version. Please use `Model.fit`, which supports generators.\n",
            "  r = model.fit_generator(\n"
          ]
        },
        {
          "output_type": "stream",
          "name": "stdout",
          "text": [
            "Epoch 1/50\n",
            "13/13 [==============================] - 15s 1s/step - loss: 2.7323 - accuracy: 0.5144 - val_loss: 0.6281 - val_accuracy: 0.6716\n",
            "Epoch 2/50\n",
            "13/13 [==============================] - 14s 1s/step - loss: 0.6712 - accuracy: 0.5962 - val_loss: 0.7352 - val_accuracy: 0.4627\n",
            "Epoch 3/50\n",
            "13/13 [==============================] - 14s 1s/step - loss: 0.5434 - accuracy: 0.7404 - val_loss: 0.8729 - val_accuracy: 0.3955\n",
            "Epoch 4/50\n",
            "13/13 [==============================] - 14s 1s/step - loss: 0.4731 - accuracy: 0.7620 - val_loss: 0.8728 - val_accuracy: 0.4478\n",
            "Epoch 5/50\n",
            "13/13 [==============================] - 14s 1s/step - loss: 0.4372 - accuracy: 0.7957 - val_loss: 0.5726 - val_accuracy: 0.6791\n",
            "Epoch 6/50\n",
            "13/13 [==============================] - 14s 1s/step - loss: 0.3734 - accuracy: 0.8438 - val_loss: 0.7614 - val_accuracy: 0.5746\n",
            "Epoch 7/50\n",
            "13/13 [==============================] - 14s 1s/step - loss: 0.3398 - accuracy: 0.8558 - val_loss: 0.6267 - val_accuracy: 0.6269\n",
            "Epoch 8/50\n",
            "13/13 [==============================] - 14s 1s/step - loss: 0.2756 - accuracy: 0.8894 - val_loss: 0.5846 - val_accuracy: 0.6791\n",
            "Epoch 9/50\n",
            "13/13 [==============================] - 14s 1s/step - loss: 0.2363 - accuracy: 0.9014 - val_loss: 0.3968 - val_accuracy: 0.7836\n",
            "Epoch 10/50\n",
            "13/13 [==============================] - 14s 1s/step - loss: 0.2066 - accuracy: 0.9255 - val_loss: 0.4403 - val_accuracy: 0.7537\n",
            "Epoch 11/50\n",
            "13/13 [==============================] - 14s 1s/step - loss: 0.2220 - accuracy: 0.9183 - val_loss: 0.6675 - val_accuracy: 0.6269\n",
            "Epoch 12/50\n",
            "13/13 [==============================] - 13s 1s/step - loss: 0.1709 - accuracy: 0.9567 - val_loss: 0.4520 - val_accuracy: 0.7687\n",
            "Epoch 13/50\n",
            "13/13 [==============================] - 14s 1s/step - loss: 0.1445 - accuracy: 0.9423 - val_loss: 0.2818 - val_accuracy: 0.8955\n",
            "Epoch 14/50\n",
            "13/13 [==============================] - 14s 1s/step - loss: 0.1242 - accuracy: 0.9639 - val_loss: 0.4552 - val_accuracy: 0.7836\n",
            "Epoch 15/50\n",
            "13/13 [==============================] - 14s 1s/step - loss: 0.1237 - accuracy: 0.9567 - val_loss: 0.5139 - val_accuracy: 0.7612\n",
            "Epoch 16/50\n",
            "13/13 [==============================] - 13s 1s/step - loss: 0.1793 - accuracy: 0.9423 - val_loss: 0.2721 - val_accuracy: 0.8806\n",
            "Epoch 17/50\n",
            "13/13 [==============================] - 13s 1s/step - loss: 0.1143 - accuracy: 0.9639 - val_loss: 0.3924 - val_accuracy: 0.8358\n",
            "Epoch 18/50\n",
            "13/13 [==============================] - 16s 1s/step - loss: 0.1104 - accuracy: 0.9639 - val_loss: 0.2406 - val_accuracy: 0.8806\n",
            "Epoch 19/50\n",
            "13/13 [==============================] - 14s 1s/step - loss: 0.0712 - accuracy: 0.9760 - val_loss: 0.2632 - val_accuracy: 0.9030\n",
            "Epoch 20/50\n",
            "13/13 [==============================] - 14s 1s/step - loss: 0.1076 - accuracy: 0.9615 - val_loss: 0.2154 - val_accuracy: 0.9104\n",
            "Epoch 21/50\n",
            "13/13 [==============================] - 14s 1s/step - loss: 0.0936 - accuracy: 0.9760 - val_loss: 0.1595 - val_accuracy: 0.9328\n",
            "Epoch 22/50\n",
            "13/13 [==============================] - 14s 1s/step - loss: 0.0986 - accuracy: 0.9688 - val_loss: 0.3634 - val_accuracy: 0.8507\n",
            "Epoch 23/50\n",
            "13/13 [==============================] - 14s 1s/step - loss: 0.0765 - accuracy: 0.9808 - val_loss: 0.3767 - val_accuracy: 0.8507\n",
            "Epoch 24/50\n",
            "13/13 [==============================] - 14s 1s/step - loss: 0.0986 - accuracy: 0.9712 - val_loss: 0.2856 - val_accuracy: 0.8806\n",
            "Epoch 25/50\n",
            "13/13 [==============================] - 14s 1s/step - loss: 0.0835 - accuracy: 0.9736 - val_loss: 0.1729 - val_accuracy: 0.9104\n",
            "Epoch 26/50\n",
            "13/13 [==============================] - 14s 1s/step - loss: 0.0373 - accuracy: 0.9928 - val_loss: 0.2181 - val_accuracy: 0.9328\n",
            "Epoch 27/50\n",
            "13/13 [==============================] - 14s 1s/step - loss: 0.0885 - accuracy: 0.9736 - val_loss: 0.2068 - val_accuracy: 0.9328\n",
            "Epoch 28/50\n",
            "13/13 [==============================] - 14s 1s/step - loss: 0.0881 - accuracy: 0.9712 - val_loss: 0.2050 - val_accuracy: 0.9254\n",
            "Epoch 29/50\n",
            "13/13 [==============================] - 14s 1s/step - loss: 0.0617 - accuracy: 0.9880 - val_loss: 0.5975 - val_accuracy: 0.8284\n",
            "Epoch 30/50\n",
            "13/13 [==============================] - 14s 1s/step - loss: 0.1041 - accuracy: 0.9591 - val_loss: 0.2157 - val_accuracy: 0.8881\n",
            "Epoch 31/50\n",
            "13/13 [==============================] - 14s 1s/step - loss: 0.0431 - accuracy: 0.9832 - val_loss: 0.2354 - val_accuracy: 0.9104\n",
            "Epoch 32/50\n",
            "13/13 [==============================] - 14s 1s/step - loss: 0.0633 - accuracy: 0.9856 - val_loss: 0.2106 - val_accuracy: 0.9030\n",
            "Epoch 33/50\n",
            "13/13 [==============================] - 14s 1s/step - loss: 0.0466 - accuracy: 0.9928 - val_loss: 0.1882 - val_accuracy: 0.9104\n",
            "Epoch 34/50\n",
            "13/13 [==============================] - 14s 1s/step - loss: 0.0653 - accuracy: 0.9712 - val_loss: 0.3528 - val_accuracy: 0.8433\n",
            "Epoch 35/50\n",
            "13/13 [==============================] - 14s 1s/step - loss: 0.0559 - accuracy: 0.9736 - val_loss: 0.2336 - val_accuracy: 0.9104\n",
            "Epoch 36/50\n",
            "13/13 [==============================] - 14s 1s/step - loss: 0.0709 - accuracy: 0.9784 - val_loss: 0.2648 - val_accuracy: 0.8955\n",
            "Epoch 37/50\n",
            "13/13 [==============================] - 14s 1s/step - loss: 0.0414 - accuracy: 0.9856 - val_loss: 0.1759 - val_accuracy: 0.9179\n",
            "Epoch 38/50\n",
            "13/13 [==============================] - 14s 1s/step - loss: 0.0545 - accuracy: 0.9832 - val_loss: 0.2969 - val_accuracy: 0.8806\n",
            "Epoch 39/50\n",
            "13/13 [==============================] - 14s 1s/step - loss: 0.0443 - accuracy: 0.9904 - val_loss: 0.2196 - val_accuracy: 0.9179\n",
            "Epoch 40/50\n",
            "13/13 [==============================] - 14s 1s/step - loss: 0.0243 - accuracy: 0.9952 - val_loss: 0.2636 - val_accuracy: 0.8955\n",
            "Epoch 41/50\n",
            "13/13 [==============================] - 15s 1s/step - loss: 0.0535 - accuracy: 0.9904 - val_loss: 0.2091 - val_accuracy: 0.9254\n",
            "Epoch 42/50\n",
            "13/13 [==============================] - 14s 1s/step - loss: 0.0543 - accuracy: 0.9784 - val_loss: 0.2525 - val_accuracy: 0.8955\n",
            "Epoch 43/50\n",
            "13/13 [==============================] - 14s 1s/step - loss: 0.0461 - accuracy: 0.9832 - val_loss: 0.2906 - val_accuracy: 0.8955\n",
            "Epoch 44/50\n",
            "13/13 [==============================] - 14s 1s/step - loss: 0.0197 - accuracy: 0.9976 - val_loss: 0.2437 - val_accuracy: 0.9254\n",
            "Epoch 45/50\n",
            "13/13 [==============================] - 16s 1s/step - loss: 0.0428 - accuracy: 0.9904 - val_loss: 0.3270 - val_accuracy: 0.8955\n",
            "Epoch 46/50\n",
            "13/13 [==============================] - 14s 1s/step - loss: 0.0366 - accuracy: 0.9952 - val_loss: 0.2406 - val_accuracy: 0.9328\n",
            "Epoch 47/50\n",
            "13/13 [==============================] - 14s 1s/step - loss: 0.0249 - accuracy: 0.9928 - val_loss: 0.1712 - val_accuracy: 0.9403\n",
            "Epoch 48/50\n",
            "13/13 [==============================] - 14s 1s/step - loss: 0.0179 - accuracy: 0.9976 - val_loss: 0.1848 - val_accuracy: 0.9179\n",
            "Epoch 49/50\n",
            "13/13 [==============================] - 15s 1s/step - loss: 0.0135 - accuracy: 0.9976 - val_loss: 0.1868 - val_accuracy: 0.9328\n",
            "Epoch 50/50\n",
            "13/13 [==============================] - 14s 1s/step - loss: 0.0262 - accuracy: 0.9904 - val_loss: 0.1283 - val_accuracy: 0.9478\n"
          ]
        }
      ]
    },
    {
      "cell_type": "code",
      "source": [
        "# plot the loss\n",
        "plt.plot(r.history['loss'], label='train loss')\n",
        "plt.plot(r.history['val_loss'], label='val loss')\n",
        "plt.legend()\n",
        "plt.show()\n",
        "plt.savefig('LossVal_loss')\n",
        "\n",
        "# plot the accuracy\n",
        "plt.plot(r.history['accuracy'], label='train acc')\n",
        "plt.plot(r.history['val_accuracy'], label='val acc')\n",
        "plt.legend()\n",
        "plt.show()\n",
        "plt.savefig('AccVal_acc')"
      ],
      "metadata": {
        "colab": {
          "base_uri": "https://localhost:8080/",
          "height": 861
        },
        "id": "bvCxivQcU5kg",
        "outputId": "ce7a37e5-dd08-4253-dfad-e41230760c43"
      },
      "execution_count": 19,
      "outputs": [
        {
          "output_type": "display_data",
          "data": {
            "text/plain": [
              "<Figure size 640x480 with 1 Axes>"
            ],
            "image/png": "[encoded data removed]"
          },
          "metadata": {}
        },
        {
          "output_type": "display_data",
          "data": {
            "text/plain": [
              "<Figure size 640x480 with 1 Axes>"
            ],
            "image/png": "[encoded data removed]"
          },
          "metadata": {}
        },
        {
          "output_type": "display_data",
          "data": {
            "text/plain": [
              "<Figure size 640x480 with 0 Axes>"
            ]
          },
          "metadata": {}
        }
      ]
    },
    {
      "cell_type": "code",
      "source": [
        "# save it as a h5 file\n",
        "\n",
        "\n",
        "from tensorflow.keras.models import load_model\n",
        "\n",
        "model.save('model_vgg19.h5')"
      ],
      "metadata": {
        "colab": {
          "base_uri": "https://localhost:8080/"
        },
        "id": "8W30AgS3WY33",
        "outputId": "51ba6aa7-48e2-42b6-abfe-d3580c7a82ad"
      },
      "execution_count": 20,
      "outputs": [
        {
          "output_type": "stream",
          "name": "stderr",
          "text": [
            "/usr/local/lib/python3.10/dist-packages/keras/src/engine/training.py:3103: UserWarning: You are saving your model as an HDF5 file via `model.save()`. This file format is considered legacy. We recommend using instead the native Keras format, e.g. `model.save('my_model.keras')`.\n",
            "  saving_api.save_model(\n"
          ]
        }
      ]
    },
    {
      "cell_type": "code",
      "source": [
        "y_pred = model.predict(test_set)"
      ],
      "metadata": {
        "colab": {
          "base_uri": "https://localhost:8080/"
        },
        "id": "1jGOkxiQWgzA",
        "outputId": "0321de76-9436-4c4d-e3e6-a2b6b91ac122"
      },
      "execution_count": 21,
      "outputs": [
        {
          "output_type": "stream",
          "name": "stdout",
          "text": [
            "5/5 [==============================] - 1s 176ms/step\n"
          ]
        }
      ]
    },
    {
      "cell_type": "code",
      "source": [
        "y_pred"
      ],
      "metadata": {
        "colab": {
          "base_uri": "https://localhost:8080/"
        },
        "id": "JhqfmlMzWquF",
        "outputId": "1d996311-3bcc-445c-9e47-f273b8cd8ab2"
      },
      "execution_count": 22,
      "outputs": [
        {
          "output_type": "execute_result",
          "data": {
            "text/plain": [
              "array([[2.34997615e-01, 7.65002370e-01],\n",
              "       [1.98606029e-02, 9.80139375e-01],\n",
              "       [9.99997914e-01, 2.02007595e-06],\n",
              "       [9.99990880e-01, 9.07805861e-06],\n",
              "       [9.99999464e-01, 4.28598980e-07],\n",
              "       [3.89032951e-03, 9.96109605e-01],\n",
              "       [9.99999940e-01, 7.16753046e-10],\n",
              "       [9.99998868e-01, 1.01939622e-06],\n",
              "       [9.99997318e-01, 2.63087782e-06],\n",
              "       [9.99821663e-01, 1.78352071e-04],\n",
              "       [5.26269451e-02, 9.47373092e-01],\n",
              "       [9.99999940e-01, 4.43419950e-08],\n",
              "       [4.30895954e-01, 5.69104016e-01],\n",
              "       [9.99996364e-01, 3.55583506e-06],\n",
              "       [6.40335917e-01, 3.59664112e-01],\n",
              "       [9.66355146e-04, 9.99033689e-01],\n",
              "       [9.99996483e-01, 3.51127983e-06],\n",
              "       [3.54258306e-02, 9.64574099e-01],\n",
              "       [1.48325609e-02, 9.85167384e-01],\n",
              "       [9.99999940e-01, 5.12299545e-15],\n",
              "       [9.28006351e-01, 7.19935820e-02],\n",
              "       [9.99998748e-01, 1.16806143e-06],\n",
              "       [9.99995053e-01, 4.83356371e-06],\n",
              "       [1.48031081e-03, 9.98519719e-01],\n",
              "       [9.99999106e-01, 7.77145431e-07],\n",
              "       [7.78316148e-03, 9.92216825e-01],\n",
              "       [9.99999940e-01, 1.86469729e-14],\n",
              "       [9.99476135e-01, 5.23715222e-04],\n",
              "       [3.28545839e-01, 6.71454191e-01],\n",
              "       [9.99999940e-01, 3.02570850e-11],\n",
              "       [9.99999940e-01, 1.41630934e-12],\n",
              "       [9.99891937e-01, 1.08007320e-04],\n",
              "       [9.99999940e-01, 1.70429282e-10],\n",
              "       [9.99999821e-01, 7.15398869e-08],\n",
              "       [4.75570224e-02, 9.52443004e-01],\n",
              "       [5.22902701e-03, 9.94770885e-01],\n",
              "       [9.99999225e-01, 7.27095198e-07],\n",
              "       [9.99959409e-01, 4.04990278e-05],\n",
              "       [8.44476447e-02, 9.15552258e-01],\n",
              "       [9.99999940e-01, 1.44773109e-25],\n",
              "       [9.99994814e-01, 5.12784254e-06],\n",
              "       [9.99999106e-01, 8.11546329e-07],\n",
              "       [1.02898166e-01, 8.97101820e-01],\n",
              "       [9.99993145e-01, 6.82719110e-06],\n",
              "       [7.88657367e-02, 9.21134293e-01],\n",
              "       [7.82667994e-01, 2.17332050e-01],\n",
              "       [9.99999583e-01, 3.23075540e-07],\n",
              "       [9.99999702e-01, 2.79160588e-07],\n",
              "       [9.99999821e-01, 1.53767161e-07],\n",
              "       [9.99999940e-01, 1.37203013e-08],\n",
              "       [9.99997795e-01, 2.17694833e-06],\n",
              "       [7.66554415e-01, 2.33445600e-01],\n",
              "       [5.30564636e-02, 9.46943462e-01],\n",
              "       [9.99999940e-01, 3.53919716e-09],\n",
              "       [1.46355452e-02, 9.85364497e-01],\n",
              "       [9.99999821e-01, 1.23934669e-07],\n",
              "       [2.13796012e-02, 9.78620410e-01],\n",
              "       [9.99999940e-01, 1.04793267e-08],\n",
              "       [9.88975048e-01, 1.10249454e-02],\n",
              "       [2.82199541e-03, 9.97177958e-01],\n",
              "       [9.99997675e-01, 2.22607923e-06],\n",
              "       [9.99999821e-01, 7.43443209e-08],\n",
              "       [9.99999940e-01, 5.52814895e-17],\n",
              "       [9.99999464e-01, 4.21794454e-07],\n",
              "       [4.63617854e-02, 9.53638315e-01],\n",
              "       [8.22536275e-02, 9.17746246e-01],\n",
              "       [1.46261826e-02, 9.85373914e-01],\n",
              "       [9.22079146e-01, 7.79209211e-02],\n",
              "       [2.04622522e-01, 7.95377433e-01],\n",
              "       [9.99999940e-01, 1.95591220e-22],\n",
              "       [4.59994515e-03, 9.95400071e-01],\n",
              "       [9.99946296e-01, 5.36727239e-05],\n",
              "       [3.95922661e-02, 9.60407674e-01],\n",
              "       [9.99999940e-01, 2.91165800e-13],\n",
              "       [9.99999821e-01, 1.02086751e-07],\n",
              "       [7.40513811e-03, 9.92594838e-01],\n",
              "       [3.31232175e-02, 9.66876745e-01],\n",
              "       [9.99999940e-01, 1.81511033e-21],\n",
              "       [9.99999940e-01, 4.69304062e-09],\n",
              "       [9.99999940e-01, 5.89090821e-16],\n",
              "       [4.47435305e-03, 9.95525658e-01],\n",
              "       [6.80722529e-03, 9.93192732e-01],\n",
              "       [9.99999940e-01, 3.10056035e-25],\n",
              "       [1.22012675e-03, 9.98779833e-01],\n",
              "       [9.99999940e-01, 9.80057258e-10],\n",
              "       [9.99999940e-01, 2.28675283e-08],\n",
              "       [5.53353310e-01, 4.46646750e-01],\n",
              "       [9.97938275e-01, 2.06171232e-03],\n",
              "       [1.70629576e-03, 9.98293638e-01],\n",
              "       [4.67795320e-02, 9.53220427e-01],\n",
              "       [9.96911287e-01, 3.08862585e-03],\n",
              "       [9.99994576e-01, 5.35353138e-06],\n",
              "       [9.99999940e-01, 1.50946530e-13],\n",
              "       [9.99999702e-01, 2.80693456e-07],\n",
              "       [9.59329214e-03, 9.90406752e-01],\n",
              "       [1.97237637e-02, 9.80276227e-01],\n",
              "       [8.77326846e-01, 1.22673169e-01],\n",
              "       [6.35613734e-03, 9.93643939e-01],\n",
              "       [1.69969350e-02, 9.83002961e-01],\n",
              "       [5.81777096e-02, 9.41822350e-01],\n",
              "       [4.48973384e-03, 9.95510340e-01],\n",
              "       [9.99972880e-01, 2.70109958e-05],\n",
              "       [9.99881089e-01, 1.18813681e-04],\n",
              "       [9.99939978e-01, 5.99438608e-05],\n",
              "       [9.99997914e-01, 2.05361221e-06],\n",
              "       [9.99999940e-01, 4.02031759e-08],\n",
              "       [3.68705727e-02, 9.63129401e-01],\n",
              "       [9.99999940e-01, 7.38467842e-10],\n",
              "       [9.99759912e-01, 2.40137510e-04],\n",
              "       [9.99999940e-01, 8.86325402e-10],\n",
              "       [9.99999940e-01, 7.09301468e-22],\n",
              "       [9.99998033e-01, 1.90392905e-06],\n",
              "       [1.22583024e-01, 8.77416909e-01],\n",
              "       [2.03915928e-02, 9.79608417e-01],\n",
              "       [1.75019708e-02, 9.82497931e-01],\n",
              "       [9.99967396e-01, 3.25202745e-05],\n",
              "       [6.40577734e-01, 3.59422296e-01],\n",
              "       [9.99905765e-01, 9.41566614e-05],\n",
              "       [9.99999940e-01, 3.10621644e-08],\n",
              "       [1.32090726e-03, 9.98679161e-01],\n",
              "       [9.99999106e-01, 8.47305955e-07],\n",
              "       [9.99998868e-01, 1.01832256e-06],\n",
              "       [1.32818669e-01, 8.67181301e-01],\n",
              "       [7.44311139e-02, 9.25568879e-01],\n",
              "       [9.99999940e-01, 1.08773992e-12],\n",
              "       [5.74010611e-01, 4.25989419e-01],\n",
              "       [9.99949634e-01, 5.03176525e-05],\n",
              "       [9.54435110e-01, 4.55649346e-02],\n",
              "       [9.99998689e-01, 1.31280831e-06],\n",
              "       [2.93575297e-03, 9.97064292e-01],\n",
              "       [9.42191388e-03, 9.90578175e-01],\n",
              "       [9.99999404e-01, 5.66396864e-07],\n",
              "       [1.40310414e-02, 9.85968947e-01],\n",
              "       [3.33745568e-03, 9.96662557e-01]], dtype=float32)"
            ]
          },
          "metadata": {},
          "execution_count": 22
        }
      ]
    },
    {
      "cell_type": "code",
      "source": [
        "import numpy as np\n",
        "y_pred = np.argmax(y_pred, axis=1)"
      ],
      "metadata": {
        "id": "E9ygjc0PWsYz"
      },
      "execution_count": 23,
      "outputs": []
    },
    {
      "cell_type": "code",
      "source": [
        "y_pred"
      ],
      "metadata": {
        "colab": {
          "base_uri": "https://localhost:8080/"
        },
        "id": "X9Hs2crPW1Tp",
        "outputId": "740f3caf-d334-404e-f7bb-8ce03a79544a"
      },
      "execution_count": 24,
      "outputs": [
        {
          "output_type": "execute_result",
          "data": {
            "text/plain": [
              "array([1, 1, 0, 0, 0, 1, 0, 0, 0, 0, 1, 0, 1, 0, 0, 1, 0, 1, 1, 0, 0, 0,\n",
              "       0, 1, 0, 1, 0, 0, 1, 0, 0, 0, 0, 0, 1, 1, 0, 0, 1, 0, 0, 0, 1, 0,\n",
              "       1, 0, 0, 0, 0, 0, 0, 0, 1, 0, 1, 0, 1, 0, 0, 1, 0, 0, 0, 0, 1, 1,\n",
              "       1, 0, 1, 0, 1, 0, 1, 0, 0, 1, 1, 0, 0, 0, 1, 1, 0, 1, 0, 0, 0, 0,\n",
              "       1, 1, 0, 0, 0, 0, 1, 1, 0, 1, 1, 1, 1, 0, 0, 0, 0, 0, 1, 0, 0, 0,\n",
              "       0, 0, 1, 1, 1, 0, 0, 0, 0, 1, 0, 0, 1, 1, 0, 0, 0, 0, 0, 1, 1, 0,\n",
              "       1, 1])"
            ]
          },
          "metadata": {},
          "execution_count": 24
        }
      ]
    },
    {
      "cell_type": "code",
      "source": [
        "from tensorflow.keras.models import load_model\n",
        "from tensorflow.keras.preprocessing import image\n",
        "model=load_model('model_vgg19.h5')"
      ],
      "metadata": {
        "id": "UIVdlsXJW5O7"
      },
      "execution_count": 25,
      "outputs": []
    },
    {
      "cell_type": "code",
      "source": [
        "img=image.load_img('/content/Dataset/Dataset/Test/Uninfected/C3thin_original_IMG_20150608_162922_cell_205.png',target_size=(224,224))"
      ],
      "metadata": {
        "id": "peXcI-bDXGI4"
      },
      "execution_count": 26,
      "outputs": []
    },
    {
      "cell_type": "code",
      "source": [
        "x=image.img_to_array(img)\n",
        "x"
      ],
      "metadata": {
        "colab": {
          "base_uri": "https://localhost:8080/"
        },
        "id": "JwxJodrmXV_F",
        "outputId": "92b2bdcc-ca83-405a-f448-14f3508ff078"
      },
      "execution_count": 27,
      "outputs": [
        {
          "output_type": "execute_result",
          "data": {
            "text/plain": [
              "array([[[0., 0., 0.],\n",
              "        [0., 0., 0.],\n",
              "        [0., 0., 0.],\n",
              "        ...,\n",
              "        [0., 0., 0.],\n",
              "        [0., 0., 0.],\n",
              "        [0., 0., 0.]],\n",
              "\n",
              "       [[0., 0., 0.],\n",
              "        [0., 0., 0.],\n",
              "        [0., 0., 0.],\n",
              "        ...,\n",
              "        [0., 0., 0.],\n",
              "        [0., 0., 0.],\n",
              "        [0., 0., 0.]],\n",
              "\n",
              "       [[0., 0., 0.],\n",
              "        [0., 0., 0.],\n",
              "        [0., 0., 0.],\n",
              "        ...,\n",
              "        [0., 0., 0.],\n",
              "        [0., 0., 0.],\n",
              "        [0., 0., 0.]],\n",
              "\n",
              "       ...,\n",
              "\n",
              "       [[0., 0., 0.],\n",
              "        [0., 0., 0.],\n",
              "        [0., 0., 0.],\n",
              "        ...,\n",
              "        [0., 0., 0.],\n",
              "        [0., 0., 0.],\n",
              "        [0., 0., 0.]],\n",
              "\n",
              "       [[0., 0., 0.],\n",
              "        [0., 0., 0.],\n",
              "        [0., 0., 0.],\n",
              "        ...,\n",
              "        [0., 0., 0.],\n",
              "        [0., 0., 0.],\n",
              "        [0., 0., 0.]],\n",
              "\n",
              "       [[0., 0., 0.],\n",
              "        [0., 0., 0.],\n",
              "        [0., 0., 0.],\n",
              "        ...,\n",
              "        [0., 0., 0.],\n",
              "        [0., 0., 0.],\n",
              "        [0., 0., 0.]]], dtype=float32)"
            ]
          },
          "metadata": {},
          "execution_count": 27
        }
      ]
    },
    {
      "cell_type": "code",
      "source": [
        "x.shape"
      ],
      "metadata": {
        "colab": {
          "base_uri": "https://localhost:8080/"
        },
        "id": "5XGxU-ERXZCv",
        "outputId": "45c83be2-657e-4d68-dc0a-8d8d623a4d0e"
      },
      "execution_count": 28,
      "outputs": [
        {
          "output_type": "execute_result",
          "data": {
            "text/plain": [
              "(224, 224, 3)"
            ]
          },
          "metadata": {},
          "execution_count": 28
        }
      ]
    },
    {
      "cell_type": "code",
      "source": [
        "x=x/255"
      ],
      "metadata": {
        "id": "EIYiko_oXc-n"
      },
      "execution_count": 29,
      "outputs": []
    },
    {
      "cell_type": "code",
      "source": [
        "x=np.expand_dims(x,axis=0)\n",
        "img_data=preprocess_input(x)\n",
        "img_data.shape"
      ],
      "metadata": {
        "colab": {
          "base_uri": "https://localhost:8080/"
        },
        "id": "CUd2oOhLXgQP",
        "outputId": "d25afd23-3537-4e5f-9ea8-7b62f6655636"
      },
      "execution_count": 30,
      "outputs": [
        {
          "output_type": "execute_result",
          "data": {
            "text/plain": [
              "(1, 224, 224, 3)"
            ]
          },
          "metadata": {},
          "execution_count": 30
        }
      ]
    },
    {
      "cell_type": "code",
      "source": [
        "model.predict(img_data)"
      ],
      "metadata": {
        "colab": {
          "base_uri": "https://localhost:8080/"
        },
        "id": "-l8vvDMlXkkh",
        "outputId": "e74863bc-6464-425c-a285-c043616d76e7"
      },
      "execution_count": 31,
      "outputs": [
        {
          "output_type": "stream",
          "name": "stdout",
          "text": [
            "1/1 [==============================] - 0s 84ms/step\n"
          ]
        },
        {
          "output_type": "execute_result",
          "data": {
            "text/plain": [
              "array([[0., 1.]], dtype=float32)"
            ]
          },
          "metadata": {},
          "execution_count": 31
        }
      ]
    },
    {
      "cell_type": "code",
      "source": [
        "a=np.argmax(model.predict(img_data), axis=1)\n"
      ],
      "metadata": {
        "colab": {
          "base_uri": "https://localhost:8080/"
        },
        "id": "NJU9BXfOXorK",
        "outputId": "028094c8-7070-4ebe-aee3-2633e76fdcb9"
      },
      "execution_count": 32,
      "outputs": [
        {
          "output_type": "stream",
          "name": "stdout",
          "text": [
            "1/1 [==============================] - 0s 27ms/step\n"
          ]
        }
      ]
    },
    {
      "cell_type": "code",
      "source": [
        "if(a==1):\n",
        "    print(\"Uninfected\")\n",
        "else:\n",
        "    print(\"Infected\")"
      ],
      "metadata": {
        "colab": {
          "base_uri": "https://localhost:8080/"
        },
        "id": "rcCPYY9NXwb0",
        "outputId": "eaaec5dd-4474-42df-d760-86e050167832"
      },
      "execution_count": 33,
      "outputs": [
        {
          "output_type": "stream",
          "name": "stdout",
          "text": [
            "Uninfected\n"
          ]
        }
      ]
    },
    {
      "cell_type": "code",
      "source": [
        "!pip install streamlit\n",
        "\n",
        "import streamlit as st\n",
        "from PIL import Image\n",
        "from keras.models import load_model\n",
        "from keras.applications.vgg19 import preprocess_input\n",
        "import numpy as np\n",
        "import os\n",
        "\n",
        "\n",
        "\n",
        "# Load the pre-trained model\n",
        "MODEL_PATH = '/content/model_vgg19.h5'\n",
        "model = load_model(MODEL_PATH)\n",
        "\n",
        "# Define the Streamlit app\n",
        "def main():\n",
        "    st.title(\"Malaria-Infected Cell Classification\")\n",
        "\n",
        "    uploaded_file = st.file_uploader(\"Choose an image...\", type=[\"jpg\", \"png\", \"jpeg\"])\n",
        "\n",
        "    if uploaded_file is not None:\n",
        "        image = Image.open(uploaded_file)\n",
        "        st.image(image, caption='Uploaded Image.', use_column_width=True)\n",
        "        st.write(\"\")\n",
        "\n",
        "        # Preprocess the image\n",
        "        img = image.resize((224, 224))  # Resize image to match model's expected sizing\n",
        "        img_array = np.array(img)  # Convert PIL image to numpy array\n",
        "        img_array = np.expand_dims(img_array, axis=0)  # Add batch dimension\n",
        "        img_array = preprocess_input(img_array)  # Preprocess image\n",
        "\n",
        "        # Make prediction\n",
        "        preds = model.predict(img_array)\n",
        "        pred_class = np.argmax(preds, axis=1)\n",
        "\n",
        "        if pred_class == 0:\n",
        "            st.write(\"The cell is Infected with Malaria.\")\n",
        "        else:\n",
        "            st.write(\"The cell is not Infected with Malaria.\")\n",
        "\n",
        "if __name__ == '__main__':\n",
        "    main()\n"
      ],
      "metadata": {
        "colab": {
          "base_uri": "https://localhost:8080/"
        },
        "id": "s8WDQJ8SYlOj",
        "outputId": "744bef7d-8948-4a62-c5eb-b278efe41a96"
      },
      "execution_count": 34,
      "outputs": [
        {
          "output_type": "stream",
          "name": "stdout",
          "text": [
            "Collecting streamlit\n",
            "  Downloading streamlit-1.32.2-py2.py3-none-any.whl (8.1 MB)\n",
            "\u001b[2K     \u001b[90m━━━━━━━━━━━━━━━━━━━━━━━━━━━━━━━━━━━━━━━━\u001b[0m \u001b[32m8.1/8.1 MB\u001b[0m \u001b[31m27.8 MB/s\u001b[0m eta \u001b[36m0:00:00\u001b[0m\n",
            "\u001b[?25hRequirement already satisfied: altair<6,>=4.0 in /usr/local/lib/python3.10/dist-packages (from streamlit) (4.2.2)\n",
            "Requirement already satisfied: blinker<2,>=1.0.0 in /usr/lib/python3/dist-packages (from streamlit) (1.4)\n",
            "Requirement already satisfied: cachetools<6,>=4.0 in /usr/local/lib/python3.10/dist-packages (from streamlit) (5.3.3)\n",
            "Requirement already satisfied: click<9,>=7.0 in /usr/local/lib/python3.10/dist-packages (from streamlit) (8.1.7)\n",
            "Requirement already satisfied: numpy<2,>=1.19.3 in /usr/local/lib/python3.10/dist-packages (from streamlit) (1.25.2)\n",
            "Collecting packaging<24,>=16.8 (from streamlit)\n",
            "  Downloading packaging-23.2-py3-none-any.whl (53 kB)\n",
            "\u001b[2K     \u001b[90m━━━━━━━━━━━━━━━━━━━━━━━━━━━━━━━━━━━━━━━━\u001b[0m \u001b[32m53.0/53.0 kB\u001b[0m \u001b[31m8.0 MB/s\u001b[0m eta \u001b[36m0:00:00\u001b[0m\n",
            "\u001b[?25hRequirement already satisfied: pandas<3,>=1.3.0 in /usr/local/lib/python3.10/dist-packages (from streamlit) (1.5.3)\n",
            "Requirement already satisfied: pillow<11,>=7.1.0 in /usr/local/lib/python3.10/dist-packages (from streamlit) (9.4.0)\n",
            "Requirement already satisfied: protobuf<5,>=3.20 in /usr/local/lib/python3.10/dist-packages (from streamlit) (3.20.3)\n",
            "Requirement already satisfied: pyarrow>=7.0 in /usr/local/lib/python3.10/dist-packages (from streamlit) (14.0.2)\n",
            "Requirement already satisfied: requests<3,>=2.27 in /usr/local/lib/python3.10/dist-packages (from streamlit) (2.31.0)\n",
            "Requirement already satisfied: rich<14,>=10.14.0 in /usr/local/lib/python3.10/dist-packages (from streamlit) (13.7.1)\n",
            "Requirement already satisfied: tenacity<9,>=8.1.0 in /usr/local/lib/python3.10/dist-packages (from streamlit) (8.2.3)\n",
            "Requirement already satisfied: toml<2,>=0.10.1 in /usr/local/lib/python3.10/dist-packages (from streamlit) (0.10.2)\n",
            "Requirement already satisfied: typing-extensions<5,>=4.3.0 in /usr/local/lib/python3.10/dist-packages (from streamlit) (4.10.0)\n",
            "Collecting gitpython!=3.1.19,<4,>=3.0.7 (from streamlit)\n",
            "  Downloading GitPython-3.1.42-py3-none-any.whl (195 kB)\n",
            "\u001b[2K     \u001b[90m━━━━━━━━━━━━━━━━━━━━━━━━━━━━━━━━━━━━━━━━\u001b[0m \u001b[32m195.4/195.4 kB\u001b[0m \u001b[31m21.8 MB/s\u001b[0m eta \u001b[36m0:00:00\u001b[0m\n",
            "\u001b[?25hCollecting pydeck<1,>=0.8.0b4 (from streamlit)\n",
            "  Downloading pydeck-0.8.1b0-py2.py3-none-any.whl (4.8 MB)\n",
            "\u001b[2K     \u001b[90m━━━━━━━━━━━━━━━━━━━━━━━━━━━━━━━━━━━━━━━━\u001b[0m \u001b[32m4.8/4.8 MB\u001b[0m \u001b[31m70.1 MB/s\u001b[0m eta \u001b[36m0:00:00\u001b[0m\n",
            "\u001b[?25hRequirement already satisfied: tornado<7,>=6.0.3 in /usr/local/lib/python3.10/dist-packages (from streamlit) (6.3.3)\n",
            "Collecting watchdog>=2.1.5 (from streamlit)\n",
            "  Downloading watchdog-4.0.0-py3-none-manylinux2014_x86_64.whl (82 kB)\n",
            "\u001b[2K     \u001b[90m━━━━━━━━━━━━━━━━━━━━━━━━━━━━━━━━━━━━━━━━\u001b[0m \u001b[32m83.0/83.0 kB\u001b[0m \u001b[31m10.2 MB/s\u001b[0m eta \u001b[36m0:00:00\u001b[0m\n",
            "\u001b[?25hRequirement already satisfied: entrypoints in /usr/local/lib/python3.10/dist-packages (from altair<6,>=4.0->streamlit) (0.4)\n",
            "Requirement already satisfied: jinja2 in /usr/local/lib/python3.10/dist-packages (from altair<6,>=4.0->streamlit) (3.1.3)\n",
            "Requirement already satisfied: jsonschema>=3.0 in /usr/local/lib/python3.10/dist-packages (from altair<6,>=4.0->streamlit) (4.19.2)\n",
            "Requirement already satisfied: toolz in /usr/local/lib/python3.10/dist-packages (from altair<6,>=4.0->streamlit) (0.12.1)\n",
            "Collecting gitdb<5,>=4.0.1 (from gitpython!=3.1.19,<4,>=3.0.7->streamlit)\n",
            "  Downloading gitdb-4.0.11-py3-none-any.whl (62 kB)\n",
            "\u001b[2K     \u001b[90m━━━━━━━━━━━━━━━━━━━━━━━━━━━━━━━━━━━━━━━━\u001b[0m \u001b[32m62.7/62.7 kB\u001b[0m \u001b[31m6.8 MB/s\u001b[0m eta \u001b[36m0:00:00\u001b[0m\n",
            "\u001b[?25hRequirement already satisfied: python-dateutil>=2.8.1 in /usr/local/lib/python3.10/dist-packages (from pandas<3,>=1.3.0->streamlit) (2.8.2)\n",
            "Requirement already satisfied: pytz>=2020.1 in /usr/local/lib/python3.10/dist-packages (from pandas<3,>=1.3.0->streamlit) (2023.4)\n",
            "Requirement already satisfied: charset-normalizer<4,>=2 in /usr/local/lib/python3.10/dist-packages (from requests<3,>=2.27->streamlit) (3.3.2)\n",
            "Requirement already satisfied: idna<4,>=2.5 in /usr/local/lib/python3.10/dist-packages (from requests<3,>=2.27->streamlit) (3.6)\n",
            "Requirement already satisfied: urllib3<3,>=1.21.1 in /usr/local/lib/python3.10/dist-packages (from requests<3,>=2.27->streamlit) (2.0.7)\n",
            "Requirement already satisfied: certifi>=2017.4.17 in /usr/local/lib/python3.10/dist-packages (from requests<3,>=2.27->streamlit) (2024.2.2)\n",
            "Requirement already satisfied: markdown-it-py>=2.2.0 in /usr/local/lib/python3.10/dist-packages (from rich<14,>=10.14.0->streamlit) (3.0.0)\n",
            "Requirement already satisfied: pygments<3.0.0,>=2.13.0 in /usr/local/lib/python3.10/dist-packages (from rich<14,>=10.14.0->streamlit) (2.16.1)\n",
            "Collecting smmap<6,>=3.0.1 (from gitdb<5,>=4.0.1->gitpython!=3.1.19,<4,>=3.0.7->streamlit)\n",
            "  Downloading smmap-5.0.1-py3-none-any.whl (24 kB)\n",
            "Requirement already satisfied: MarkupSafe>=2.0 in /usr/local/lib/python3.10/dist-packages (from jinja2->altair<6,>=4.0->streamlit) (2.1.5)\n",
            "Requirement already satisfied: attrs>=22.2.0 in /usr/local/lib/python3.10/dist-packages (from jsonschema>=3.0->altair<6,>=4.0->streamlit) (23.2.0)\n",
            "Requirement already satisfied: jsonschema-specifications>=2023.03.6 in /usr/local/lib/python3.10/dist-packages (from jsonschema>=3.0->altair<6,>=4.0->streamlit) (2023.12.1)\n",
            "Requirement already satisfied: referencing>=0.28.4 in /usr/local/lib/python3.10/dist-packages (from jsonschema>=3.0->altair<6,>=4.0->streamlit) (0.33.0)\n",
            "Requirement already satisfied: rpds-py>=0.7.1 in /usr/local/lib/python3.10/dist-packages (from jsonschema>=3.0->altair<6,>=4.0->streamlit) (0.18.0)\n",
            "Requirement already satisfied: mdurl~=0.1 in /usr/local/lib/python3.10/dist-packages (from markdown-it-py>=2.2.0->rich<14,>=10.14.0->streamlit) (0.1.2)\n",
            "Requirement already satisfied: six>=1.5 in /usr/local/lib/python3.10/dist-packages (from python-dateutil>=2.8.1->pandas<3,>=1.3.0->streamlit) (1.16.0)\n",
            "Installing collected packages: watchdog, smmap, packaging, pydeck, gitdb, gitpython, streamlit\n",
            "  Attempting uninstall: packaging\n",
            "    Found existing installation: packaging 24.0\n",
            "    Uninstalling packaging-24.0:\n",
            "      Successfully uninstalled packaging-24.0\n",
            "Successfully installed gitdb-4.0.11 gitpython-3.1.42 packaging-23.2 pydeck-0.8.1b0 smmap-5.0.1 streamlit-1.32.2 watchdog-4.0.0\n"
          ]
        },
        {
          "output_type": "stream",
          "name": "stderr",
          "text": [
            "2024-03-20 08:41:55.901 \n",
            "  \u001b[33m\u001b[1mWarning:\u001b[0m to view this Streamlit app on a browser, run it with the following\n",
            "  command:\n",
            "\n",
            "    streamlit run /usr/local/lib/python3.10/dist-packages/colab_kernel_launcher.py [ARGUMENTS]\n"
          ]
        }
      ]
    },
    {
      "cell_type": "code",
      "source": [
        "!streamlit run /usr/local/lib/python3.10/dist-packages/colab_kernel_launcher.py"
      ],
      "metadata": {
        "id": "5L-YF9mEut1w",
        "outputId": "476b301e-ab5e-4cf6-c3b6-5507ab390d39",
        "colab": {
          "base_uri": "https://localhost:8080/"
        }
      },
      "execution_count": 35,
      "outputs": [
        {
          "output_type": "stream",
          "name": "stdout",
          "text": [
            "\n",
            "Collecting usage statistics. To deactivate, set browser.gatherUsageStats to False.\n",
            "\u001b[0m\n",
            "\u001b[0m\n",
            "\u001b[34m\u001b[1m  You can now view your Streamlit app in your browser.\u001b[0m\n",
            "\u001b[0m\n",
            "\u001b[34m  Network URL: \u001b[0m\u001b[1mhttp://172.28.0.12:8501\u001b[0m\n",
            "\u001b[34m  External URL: \u001b[0m\u001b[1mhttp://34.69.191.91:8501\u001b[0m\n",
            "\u001b[0m\n",
            "\u001b[34m  Stopping...\u001b[0m\n",
            "^C\n"
          ]
        }
      ]
    },
    {
      "cell_type": "code",
      "source": [],
      "metadata": {
        "id": "Vms2ZisT0hTu"
      },
      "execution_count": 35,
      "outputs": []
    }
  ]
}